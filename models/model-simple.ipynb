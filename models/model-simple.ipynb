{
 "cells": [
  {
   "cell_type": "markdown",
   "metadata": {},
   "source": [
    "# Calculate the Rt: Curt Model"
   ]
  },
  {
   "cell_type": "code",
   "execution_count": 1,
   "metadata": {},
   "outputs": [
    {
     "name": "stdout",
     "output_type": "stream",
     "text": [
      "* loaded packages\n"
     ]
    }
   ],
   "source": [
    "import os\n",
    "import time\n",
    "import math\n",
    "import json\n",
    "import random\n",
    "import datetime\n",
    "import dateutil\n",
    "import pathlib\n",
    "import argparse\n",
    "\n",
    "from functools import reduce\n",
    "\n",
    "from tqdm import tqdm\n",
    "\n",
    "import numpy as np\n",
    "import pandas as pd\n",
    "\n",
    "from matplotlib import pyplot as plt\n",
    "\n",
    "print('* loaded packages')"
   ]
  },
  {
   "cell_type": "code",
   "execution_count": 2,
   "metadata": {},
   "outputs": [
    {
     "name": "stdout",
     "output_type": "stream",
     "text": [
      "* defined data sources\n"
     ]
    }
   ],
   "source": [
    "DS_USAFACT_US_CONFIRMED = 'https://usafactsstatic.blob.core.windows.net/public/data/covid-19/covid_confirmed_usafacts.csv'\n",
    "DS_USAFACT_US_DEATH = 'https://usafactsstatic.blob.core.windows.net/public/data/covid-19/covid_deaths_usafacts.csv'\n",
    "\n",
    "# the state level data\n",
    "DS_COVIDTRACKING_STATE = 'https://covidtracking.com/data/download/all-states-history.csv'\n",
    "\n",
    "# the usa level data\n",
    "DS_COVIDTRACKING_USA = 'https://covidtracking.com/data/download/national-history.csv'\n",
    "\n",
    "print('* defined data sources')"
   ]
  },
  {
   "cell_type": "code",
   "execution_count": 3,
   "metadata": {},
   "outputs": [
    {
     "name": "stdout",
     "output_type": "stream",
     "text": [
      "* loaded usa data\n"
     ]
    }
   ],
   "source": [
    "usa_data = pd.read_csv(DS_COVIDTRACKING_USA)\n",
    "print('* loaded usa data')"
   ]
  },
  {
   "cell_type": "code",
   "execution_count": 3,
   "metadata": {},
   "outputs": [],
   "source": [
    "covid_data = pd.read_csv(DS_USAFACT_US_CONFIRMED)\n",
    "death_data = pd.read_csv(DS_USAFACT_US_DEATH)\n",
    "print('* loaded data')"
   ]
  },
  {
   "cell_type": "code",
   "execution_count": 5,
   "metadata": {},
   "outputs": [
    {
     "name": "stdout",
     "output_type": "stream",
     "text": [
      "* set index\n"
     ]
    }
   ],
   "source": [
    "covid_data.set_index('countyFIPS', inplace=True)\n",
    "death_data.set_index('countyFIPS', inplace=True)\n",
    "print('* set index')"
   ]
  },
  {
   "cell_type": "code",
   "execution_count": 5,
   "metadata": {},
   "outputs": [
    {
     "data": {
      "text/plain": [
       "'2020-11-11'"
      ]
     },
     "execution_count": 5,
     "metadata": {},
     "output_type": "execute_result"
    }
   ],
   "source": [
    "usa_data.date.max()"
   ]
  },
  {
   "cell_type": "code",
   "execution_count": 6,
   "metadata": {},
   "outputs": [
    {
     "data": {
      "text/html": [
       "<div>\n",
       "<style scoped>\n",
       "    .dataframe tbody tr th:only-of-type {\n",
       "        vertical-align: middle;\n",
       "    }\n",
       "\n",
       "    .dataframe tbody tr th {\n",
       "        vertical-align: top;\n",
       "    }\n",
       "\n",
       "    .dataframe thead th {\n",
       "        text-align: right;\n",
       "    }\n",
       "</style>\n",
       "<table border=\"1\" class=\"dataframe\">\n",
       "  <thead>\n",
       "    <tr style=\"text-align: right;\">\n",
       "      <th></th>\n",
       "      <th>County Name</th>\n",
       "      <th>State</th>\n",
       "      <th>stateFIPS</th>\n",
       "      <th>1/22/20</th>\n",
       "      <th>1/23/20</th>\n",
       "      <th>1/24/20</th>\n",
       "      <th>1/25/20</th>\n",
       "      <th>1/26/20</th>\n",
       "      <th>1/27/20</th>\n",
       "      <th>1/28/20</th>\n",
       "      <th>...</th>\n",
       "      <th>7/19/20</th>\n",
       "      <th>7/20/20</th>\n",
       "      <th>7/21/20</th>\n",
       "      <th>7/22/20</th>\n",
       "      <th>7/23/20</th>\n",
       "      <th>7/24/20</th>\n",
       "      <th>7/25/20</th>\n",
       "      <th>7/26/20</th>\n",
       "      <th>7/27/20</th>\n",
       "      <th>7/28/20</th>\n",
       "    </tr>\n",
       "    <tr>\n",
       "      <th>countyFIPS</th>\n",
       "      <th></th>\n",
       "      <th></th>\n",
       "      <th></th>\n",
       "      <th></th>\n",
       "      <th></th>\n",
       "      <th></th>\n",
       "      <th></th>\n",
       "      <th></th>\n",
       "      <th></th>\n",
       "      <th></th>\n",
       "      <th></th>\n",
       "      <th></th>\n",
       "      <th></th>\n",
       "      <th></th>\n",
       "      <th></th>\n",
       "      <th></th>\n",
       "      <th></th>\n",
       "      <th></th>\n",
       "      <th></th>\n",
       "      <th></th>\n",
       "      <th></th>\n",
       "    </tr>\n",
       "  </thead>\n",
       "  <tbody>\n",
       "    <tr>\n",
       "      <th>0</th>\n",
       "      <td>Statewide Unallocated</td>\n",
       "      <td>AL</td>\n",
       "      <td>1</td>\n",
       "      <td>0</td>\n",
       "      <td>0</td>\n",
       "      <td>0</td>\n",
       "      <td>0</td>\n",
       "      <td>0</td>\n",
       "      <td>0</td>\n",
       "      <td>0</td>\n",
       "      <td>...</td>\n",
       "      <td>0</td>\n",
       "      <td>0</td>\n",
       "      <td>0</td>\n",
       "      <td>0</td>\n",
       "      <td>0</td>\n",
       "      <td>0</td>\n",
       "      <td>0</td>\n",
       "      <td>0</td>\n",
       "      <td>0</td>\n",
       "      <td>0</td>\n",
       "    </tr>\n",
       "    <tr>\n",
       "      <th>1001</th>\n",
       "      <td>Autauga County</td>\n",
       "      <td>AL</td>\n",
       "      <td>1</td>\n",
       "      <td>0</td>\n",
       "      <td>0</td>\n",
       "      <td>0</td>\n",
       "      <td>0</td>\n",
       "      <td>0</td>\n",
       "      <td>0</td>\n",
       "      <td>0</td>\n",
       "      <td>...</td>\n",
       "      <td>842</td>\n",
       "      <td>857</td>\n",
       "      <td>865</td>\n",
       "      <td>886</td>\n",
       "      <td>905</td>\n",
       "      <td>921</td>\n",
       "      <td>932</td>\n",
       "      <td>942</td>\n",
       "      <td>974</td>\n",
       "      <td>974</td>\n",
       "    </tr>\n",
       "    <tr>\n",
       "      <th>1003</th>\n",
       "      <td>Baldwin County</td>\n",
       "      <td>AL</td>\n",
       "      <td>1</td>\n",
       "      <td>0</td>\n",
       "      <td>0</td>\n",
       "      <td>0</td>\n",
       "      <td>0</td>\n",
       "      <td>0</td>\n",
       "      <td>0</td>\n",
       "      <td>0</td>\n",
       "      <td>...</td>\n",
       "      <td>1937</td>\n",
       "      <td>2013</td>\n",
       "      <td>2102</td>\n",
       "      <td>2196</td>\n",
       "      <td>2461</td>\n",
       "      <td>2513</td>\n",
       "      <td>2662</td>\n",
       "      <td>2708</td>\n",
       "      <td>2835</td>\n",
       "      <td>2835</td>\n",
       "    </tr>\n",
       "    <tr>\n",
       "      <th>1005</th>\n",
       "      <td>Barbour County</td>\n",
       "      <td>AL</td>\n",
       "      <td>1</td>\n",
       "      <td>0</td>\n",
       "      <td>0</td>\n",
       "      <td>0</td>\n",
       "      <td>0</td>\n",
       "      <td>0</td>\n",
       "      <td>0</td>\n",
       "      <td>0</td>\n",
       "      <td>...</td>\n",
       "      <td>495</td>\n",
       "      <td>503</td>\n",
       "      <td>514</td>\n",
       "      <td>518</td>\n",
       "      <td>534</td>\n",
       "      <td>539</td>\n",
       "      <td>552</td>\n",
       "      <td>562</td>\n",
       "      <td>575</td>\n",
       "      <td>575</td>\n",
       "    </tr>\n",
       "    <tr>\n",
       "      <th>1007</th>\n",
       "      <td>Bibb County</td>\n",
       "      <td>AL</td>\n",
       "      <td>1</td>\n",
       "      <td>0</td>\n",
       "      <td>0</td>\n",
       "      <td>0</td>\n",
       "      <td>0</td>\n",
       "      <td>0</td>\n",
       "      <td>0</td>\n",
       "      <td>0</td>\n",
       "      <td>...</td>\n",
       "      <td>269</td>\n",
       "      <td>279</td>\n",
       "      <td>283</td>\n",
       "      <td>287</td>\n",
       "      <td>289</td>\n",
       "      <td>303</td>\n",
       "      <td>318</td>\n",
       "      <td>324</td>\n",
       "      <td>337</td>\n",
       "      <td>338</td>\n",
       "    </tr>\n",
       "  </tbody>\n",
       "</table>\n",
       "<p>5 rows × 192 columns</p>\n",
       "</div>"
      ],
      "text/plain": [
       "                      County Name State  stateFIPS  1/22/20  1/23/20  1/24/20  \\\n",
       "countyFIPS                                                                      \n",
       "0           Statewide Unallocated    AL          1        0        0        0   \n",
       "1001               Autauga County    AL          1        0        0        0   \n",
       "1003               Baldwin County    AL          1        0        0        0   \n",
       "1005               Barbour County    AL          1        0        0        0   \n",
       "1007                  Bibb County    AL          1        0        0        0   \n",
       "\n",
       "            1/25/20  1/26/20  1/27/20  1/28/20  ...  7/19/20  7/20/20  \\\n",
       "countyFIPS                                      ...                     \n",
       "0                 0        0        0        0  ...        0        0   \n",
       "1001              0        0        0        0  ...      842      857   \n",
       "1003              0        0        0        0  ...     1937     2013   \n",
       "1005              0        0        0        0  ...      495      503   \n",
       "1007              0        0        0        0  ...      269      279   \n",
       "\n",
       "            7/21/20  7/22/20  7/23/20  7/24/20  7/25/20  7/26/20  7/27/20  \\\n",
       "countyFIPS                                                                  \n",
       "0                 0        0        0        0        0        0        0   \n",
       "1001            865      886      905      921      932      942      974   \n",
       "1003           2102     2196     2461     2513     2662     2708     2835   \n",
       "1005            514      518      534      539      552      562      575   \n",
       "1007            283      287      289      303      318      324      337   \n",
       "\n",
       "            7/28/20  \n",
       "countyFIPS           \n",
       "0                 0  \n",
       "1001            974  \n",
       "1003           2835  \n",
       "1005            575  \n",
       "1007            338  \n",
       "\n",
       "[5 rows x 192 columns]"
      ]
     },
     "execution_count": 6,
     "metadata": {},
     "output_type": "execute_result"
    }
   ],
   "source": [
    "covid_data.head()"
   ]
  },
  {
   "cell_type": "code",
   "execution_count": 8,
   "metadata": {},
   "outputs": [
    {
     "data": {
      "text/plain": [
       "1/22/20       0\n",
       "1/23/20       0\n",
       "1/24/20       0\n",
       "1/25/20       0\n",
       "1/26/20       0\n",
       "           ... \n",
       "7/24/20    1487\n",
       "7/25/20    1497\n",
       "7/26/20    1515\n",
       "7/27/20    1525\n",
       "7/28/20    1531\n",
       "Name: 27109, Length: 189, dtype: object"
      ]
     },
     "execution_count": 8,
     "metadata": {},
     "output_type": "execute_result"
    }
   ],
   "source": [
    "covid_data.loc[27109, covid_data.columns[3:]]"
   ]
  },
  {
   "cell_type": "code",
   "execution_count": 32,
   "metadata": {},
   "outputs": [
    {
     "data": {
      "text/plain": [
       "1/22/20    NaN\n",
       "1/23/20      0\n",
       "1/24/20      0\n",
       "1/25/20      0\n",
       "1/26/20      0\n",
       "          ... \n",
       "7/24/20     21\n",
       "7/25/20     10\n",
       "7/26/20     18\n",
       "7/27/20     10\n",
       "7/28/20      6\n",
       "Name: 27109, Length: 189, dtype: object"
      ]
     },
     "execution_count": 32,
     "metadata": {},
     "output_type": "execute_result"
    }
   ],
   "source": [
    "covid_data.loc[27109, covid_data.columns[3:]].diff()"
   ]
  },
  {
   "cell_type": "code",
   "execution_count": 9,
   "metadata": {},
   "outputs": [
    {
     "data": {
      "text/plain": [
       "array([0, 0, 0, 0, 0, 0, 0, 0, 0, 0, 0, 0, 0, 0, 0, 0, 0, 0, 0, 0, 0, 0,\n",
       "       0, 0, 0, 0, 0, 0, 0, 0, 0, 0, 0, 0, 0, 0, 0, 0, 0, 0, 0, 0, 0, 0,\n",
       "       0, 0, 0, 0, 0, 0, 1, 1, 1, 1, 3, 3, 3, 6, 11, 12, 14, 16, 18, 21,\n",
       "       29, 34, 37, 47, 51, 53, 61, 66, 76, 88, 95, 96, 103, 108, 114, 114,\n",
       "       132, 143, 143, 147, 153, 163, 174, 177, 194, 197, 198, 204, 213,\n",
       "       219, 238, 239, 246, 251, 256, 265, 269, 282, 293, 305, 313, 322,\n",
       "       336, 351, 363, 368, 374, 378, 385, 399, 417, 435, 448, 461, 479,\n",
       "       488, 493, 525, 542, 551, 562, 570, 575, 582, 594, 608, 626, 634,\n",
       "       650, 654, 672, 689, 699, 711, 722, 727, 740, 752, 765, 775, 778,\n",
       "       778, 781, 810, 832, 846, 869, 903, 910, 916, 938, 948, 970, 998,\n",
       "       1020, 1027, 1047, 1058, 1076, 1101, 1101, 1124, 1129, 1147, 1168,\n",
       "       1196, 1235, 1259, 1276, 1302, 1319, 1336, 1353, 1379, 1388, 1400,\n",
       "       1403, 1436, 1448, 1466, 1487, 1497, 1515, 1525, 1531], dtype=object)"
      ]
     },
     "execution_count": 9,
     "metadata": {},
     "output_type": "execute_result"
    }
   ],
   "source": [
    "covid_data.loc[27109, covid_data.columns[3:]].values"
   ]
  },
  {
   "cell_type": "code",
   "execution_count": 11,
   "metadata": {},
   "outputs": [
    {
     "data": {
      "text/plain": [
       "array([0, 0, 0, 0, 0, 0, 0, 0, 0, 0, 0, 0, 0, 0, 0, 0, 0, 0, 0, 0, 0, 0,\n",
       "       0, 0, 0, 0, 0, 0, 0, 0, 0, 0, 0, 0, 0, 0, 0, 0, 0, 0, 0, 0, 0, 0,\n",
       "       0, 0, 0, 0, 0, 1, 0, 0, 0, 2, 0, 0, 3, 5, 1, 2, 2, 2, 3, 8, 5, 3,\n",
       "       10, 4, 2, 8, 5, 10, 12, 7, 1, 7, 5, 6, 0, 18, 11, 0, 4, 6, 10, 11,\n",
       "       3, 17, 3, 1, 6, 9, 6, 19, 1, 7, 5, 5, 9, 4, 13, 11, 12, 8, 9, 14,\n",
       "       15, 12, 5, 6, 4, 7, 14, 18, 18, 13, 13, 18, 9, 5, 32, 17, 9, 11, 8,\n",
       "       5, 7, 12, 14, 18, 8, 16, 4, 18, 17, 10, 12, 11, 5, 13, 12, 13, 10,\n",
       "       3, 0, 3, 29, 22, 14, 23, 34, 7, 6, 22, 10, 22, 28, 22, 7, 20, 11,\n",
       "       18, 25, 0, 23, 5, 18, 21, 28, 39, 24, 17, 26, 17, 17, 17, 26, 9,\n",
       "       12, 3, 33, 12, 18, 21, 10, 18, 10, 6], dtype=object)"
      ]
     },
     "execution_count": 11,
     "metadata": {},
     "output_type": "execute_result"
    }
   ],
   "source": [
    "td = covid_data.loc[27109, covid_data.columns[3:]].values[1:]\n",
    "yd = covid_data.loc[27109, covid_data.columns[3:]].values[:-1]\n",
    "\n",
    "td - yd"
   ]
  },
  {
   "cell_type": "code",
   "execution_count": 12,
   "metadata": {},
   "outputs": [
    {
     "name": "stderr",
     "output_type": "stream",
     "text": [
      "/Users/m210842/anaconda3/lib/python3.7/site-packages/ipykernel_launcher.py:4: RuntimeWarning: invalid value encountered in long_scalars\n",
      "  after removing the cwd from sys.path.\n"
     ]
    },
    {
     "data": {
      "text/plain": [
       "array([nan, nan, nan, nan, nan, nan, nan, nan, nan, nan, nan, nan, nan,\n",
       "       nan, nan, nan, nan, nan, nan, nan, nan, nan, nan, nan, nan, nan,\n",
       "       nan, nan, nan, nan, nan, nan, nan, nan, nan, nan, nan, nan, nan,\n",
       "       nan, nan, nan, nan, nan, nan, nan, nan, nan, nan, 1.0, 0.0, 0.0,\n",
       "       0.0, 0.6666666666666666, 0.0, 0.0, 0.5, 0.45454545454545453,\n",
       "       0.08333333333333333, 0.14285714285714285, 0.125,\n",
       "       0.1111111111111111, 0.14285714285714285, 0.27586206896551724,\n",
       "       0.14705882352941177, 0.08108108108108109, 0.2127659574468085,\n",
       "       0.0784313725490196, 0.03773584905660377, 0.13114754098360656,\n",
       "       0.07575757575757576, 0.13157894736842105, 0.13636363636363635,\n",
       "       0.07368421052631578, 0.010416666666666666, 0.06796116504854369,\n",
       "       0.046296296296296294, 0.05263157894736842, 0.0,\n",
       "       0.13636363636363635, 0.07692307692307693, 0.0,\n",
       "       0.027210884353741496, 0.0392156862745098, 0.06134969325153374,\n",
       "       0.06321839080459771, 0.01694915254237288, 0.08762886597938144,\n",
       "       0.015228426395939087, 0.005050505050505051, 0.029411764705882353,\n",
       "       0.04225352112676056, 0.0273972602739726, 0.07983193277310924,\n",
       "       0.0041841004184100415, 0.028455284552845527, 0.0199203187250996,\n",
       "       0.01953125, 0.033962264150943396, 0.01486988847583643,\n",
       "       0.04609929078014184, 0.03754266211604096, 0.03934426229508197,\n",
       "       0.025559105431309903, 0.027950310559006212, 0.041666666666666664,\n",
       "       0.042735042735042736, 0.03305785123966942, 0.01358695652173913,\n",
       "       0.016042780748663103, 0.010582010582010581, 0.01818181818181818,\n",
       "       0.03508771929824561, 0.04316546762589928, 0.041379310344827586,\n",
       "       0.029017857142857144, 0.028199566160520606, 0.037578288100208766,\n",
       "       0.018442622950819672, 0.010141987829614604, 0.06095238095238095,\n",
       "       0.03136531365313653, 0.016333938294010888, 0.019572953736654804,\n",
       "       0.014035087719298246, 0.008695652173913044, 0.012027491408934709,\n",
       "       0.020202020202020204, 0.023026315789473683, 0.02875399361022364,\n",
       "       0.012618296529968454, 0.024615384615384615, 0.0061162079510703364,\n",
       "       0.026785714285714284, 0.02467343976777939, 0.01430615164520744,\n",
       "       0.016877637130801686, 0.015235457063711912, 0.0068775790921595595,\n",
       "       0.01756756756756757, 0.015957446808510637, 0.01699346405228758,\n",
       "       0.012903225806451613, 0.0038560411311053984, 0.0,\n",
       "       0.0038412291933418692, 0.03580246913580247, 0.026442307692307692,\n",
       "       0.016548463356973995, 0.026467203682393557, 0.03765227021040975,\n",
       "       0.007692307692307693, 0.006550218340611353, 0.023454157782515993,\n",
       "       0.010548523206751054, 0.02268041237113402, 0.028056112224448898,\n",
       "       0.021568627450980392, 0.006815968841285297, 0.019102196752626553,\n",
       "       0.010396975425330813, 0.016728624535315983, 0.022706630336058128,\n",
       "       0.0, 0.020462633451957295, 0.0044286979627989375,\n",
       "       0.015693112467306015, 0.01797945205479452, 0.023411371237458192,\n",
       "       0.031578947368421054, 0.019062748212867357, 0.013322884012539185,\n",
       "       0.019969278033794162, 0.01288855193328279, 0.012724550898203593,\n",
       "       0.012564671101256468, 0.01885424220449601, 0.006484149855907781,\n",
       "       0.008571428571428572, 0.0021382751247327157, 0.02298050139275766,\n",
       "       0.008287292817679558, 0.01227830832196453, 0.014122394082044385,\n",
       "       0.006680026720106881, 0.011881188118811881, 0.006557377049180328,\n",
       "       0.003919007184846506], dtype=object)"
      ]
     },
     "execution_count": 12,
     "metadata": {},
     "output_type": "execute_result"
    }
   ],
   "source": [
    "dnc = td - yd\n",
    "ncc = td\n",
    "\n",
    "dnc / ncc"
   ]
  },
  {
   "cell_type": "code",
   "execution_count": 14,
   "metadata": {},
   "outputs": [
    {
     "name": "stderr",
     "output_type": "stream",
     "text": [
      "/Users/m210842/anaconda3/lib/python3.7/site-packages/ipykernel_launcher.py:1: RuntimeWarning: invalid value encountered in long_scalars\n",
      "  \"\"\"Entry point for launching an IPython kernel.\n"
     ]
    }
   ],
   "source": [
    "dt = dnc / ncc * 14"
   ]
  },
  {
   "cell_type": "code",
   "execution_count": 15,
   "metadata": {},
   "outputs": [
    {
     "data": {
      "text/plain": [
       "array([nan, nan, nan, nan, nan, nan, nan, nan, nan, nan, nan, nan, nan,\n",
       "       nan, nan, nan, nan, nan, nan, nan, nan, nan, nan, nan, nan, nan,\n",
       "       nan, nan, nan, nan, nan, nan, nan, nan, nan, nan, nan, nan, nan,\n",
       "       nan, nan, nan, nan, nan, nan, nan, nan, nan, nan, 14.0, 0.0, 0.0,\n",
       "       0.0, 9.333333333333332, 0.0, 0.0, 7.0, 6.363636363636363,\n",
       "       1.1666666666666665, 2.0, 1.75, 1.5555555555555554, 2.0,\n",
       "       3.862068965517241, 2.058823529411765, 1.135135135135135,\n",
       "       2.978723404255319, 1.0980392156862746, 0.5283018867924528,\n",
       "       1.8360655737704918, 1.0606060606060606, 1.8421052631578947,\n",
       "       1.909090909090909, 1.031578947368421, 0.14583333333333331,\n",
       "       0.9514563106796117, 0.6481481481481481, 0.7368421052631579, 0.0,\n",
       "       1.909090909090909, 1.076923076923077, 0.0, 0.38095238095238093,\n",
       "       0.5490196078431373, 0.8588957055214724, 0.885057471264368,\n",
       "       0.23728813559322035, 1.22680412371134, 0.2131979695431472,\n",
       "       0.07070707070707072, 0.4117647058823529, 0.5915492957746479,\n",
       "       0.3835616438356164, 1.1176470588235294, 0.05857740585774058,\n",
       "       0.3983739837398374, 0.2788844621513944, 0.2734375,\n",
       "       0.47547169811320755, 0.20817843866171004, 0.6453900709219857,\n",
       "       0.5255972696245734, 0.5508196721311476, 0.35782747603833864,\n",
       "       0.391304347826087, 0.5833333333333333, 0.5982905982905983,\n",
       "       0.4628099173553719, 0.1902173913043478, 0.22459893048128343,\n",
       "       0.14814814814814814, 0.2545454545454545, 0.49122807017543857,\n",
       "       0.60431654676259, 0.5793103448275863, 0.40625, 0.3947939262472885,\n",
       "       0.5260960334029228, 0.2581967213114754, 0.14198782961460446,\n",
       "       0.8533333333333333, 0.43911439114391143, 0.22867513611615242,\n",
       "       0.27402135231316727, 0.19649122807017544, 0.12173913043478261,\n",
       "       0.16838487972508592, 0.2828282828282829, 0.3223684210526316,\n",
       "       0.402555910543131, 0.17665615141955834, 0.3446153846153846,\n",
       "       0.0856269113149847, 0.375, 0.3454281567489115, 0.20028612303290416,\n",
       "       0.2362869198312236, 0.21329639889196678, 0.09628610729023383,\n",
       "       0.24594594594594596, 0.22340425531914893, 0.23790849673202613,\n",
       "       0.18064516129032257, 0.05398457583547558, 0.0, 0.05377720870678617,\n",
       "       0.5012345679012346, 0.3701923076923077, 0.23167848699763594,\n",
       "       0.3705408515535098, 0.5271317829457365, 0.1076923076923077,\n",
       "       0.09170305676855894, 0.3283582089552239, 0.14767932489451477,\n",
       "       0.31752577319587627, 0.3927855711422846, 0.30196078431372547,\n",
       "       0.09542356377799416, 0.26743075453677173, 0.14555765595463138,\n",
       "       0.23420074349442377, 0.3178928247048138, 0.0, 0.28647686832740216,\n",
       "       0.062001771479185126, 0.21970357454228423, 0.2517123287671233,\n",
       "       0.3277591973244147, 0.4421052631578948, 0.266878474980143,\n",
       "       0.1865203761755486, 0.27956989247311825, 0.18043972706595907,\n",
       "       0.1781437125748503, 0.17590539541759054, 0.2639593908629442,\n",
       "       0.09077809798270893, 0.12000000000000001, 0.02993585174625802,\n",
       "       0.32172701949860727, 0.11602209944751381, 0.17189631650750342,\n",
       "       0.1977135171486214, 0.09352037408149633, 0.16633663366336635,\n",
       "       0.09180327868852459, 0.05486610058785108], dtype=object)"
      ]
     },
     "execution_count": 15,
     "metadata": {},
     "output_type": "execute_result"
    }
   ],
   "source": [
    "dt"
   ]
  },
  {
   "cell_type": "code",
   "execution_count": 19,
   "metadata": {},
   "outputs": [
    {
     "data": {
      "image/png": "[encoded data removed]",
      "text/plain": [
       "<Figure size 432x288 with 1 Axes>"
      ]
     },
     "metadata": {
      "needs_background": "light"
     },
     "output_type": "display_data"
    }
   ],
   "source": [
    "plt.plot(dt)\n",
    "\n",
    "plt.show()"
   ]
  },
  {
   "cell_type": "markdown",
   "metadata": {},
   "source": [
    "## Rt functions"
   ]
  },
  {
   "cell_type": "code",
   "execution_count": 21,
   "metadata": {},
   "outputs": [],
   "source": [
    "def get_cnty_rt(countyFIPS, L=14):\n",
    "    td = covid_data.loc[countyFIPS, covid_data.columns[3:]].values[1:]\n",
    "    yd = covid_data.loc[countyFIPS, covid_data.columns[3:]].values[:-1]\n",
    "    \n",
    "    dnc = td - yd\n",
    "    ncc = td\n",
    "    \n",
    "    rt = dnc / ncc * L\n",
    "    \n",
    "    return rt\n",
    "    \n",
    "def plot_rt(rt):\n",
    "    fig, ax = plt.subplots()\n",
    "    \n",
    "    ax.plot(rt)\n",
    "    ax.set_ylim(0, 3)\n",
    "\n",
    "    plt.show()\n"
   ]
  },
  {
   "cell_type": "code",
   "execution_count": 27,
   "metadata": {},
   "outputs": [
    {
     "name": "stderr",
     "output_type": "stream",
     "text": [
      "/Users/m210842/anaconda3/lib/python3.7/site-packages/ipykernel_launcher.py:8: RuntimeWarning: invalid value encountered in long_scalars\n",
      "  \n"
     ]
    },
    {
     "data": {
      "image/png": "[encoded data removed]",
      "text/plain": [
       "<Figure size 432x288 with 1 Axes>"
      ]
     },
     "metadata": {
      "needs_background": "light"
     },
     "output_type": "display_data"
    }
   ],
   "source": [
    "plot_rt(get_cnty_rt(48201, 30))"
   ]
  },
  {
   "cell_type": "code",
   "execution_count": 33,
   "metadata": {},
   "outputs": [
    {
     "name": "stderr",
     "output_type": "stream",
     "text": [
      "/Users/m210842/anaconda3/lib/python3.7/site-packages/ipykernel_launcher.py:8: RuntimeWarning: invalid value encountered in long_scalars\n",
      "  \n"
     ]
    },
    {
     "data": {
      "text/plain": [
       "array([nan, nan, nan, nan, nan, nan, nan, nan, nan, nan, nan, nan, nan,\n",
       "       nan, nan, nan, nan, nan, nan, nan, nan, nan, nan, nan, nan, nan,\n",
       "       nan, nan, nan, nan, nan, nan, nan, nan, nan, nan, nan, nan, nan,\n",
       "       nan, nan, nan, 14.0, 4.666666666666666, 5.6000000000000005, 0.0,\n",
       "       2.333333333333333, 2.0, 0.0, 1.75, 1.5555555555555554,\n",
       "       1.4000000000000001, 0.0, 0.0, 0.0, 0.0, 0.0, 10.11111111111111,\n",
       "       0.0, 0.0, 4.666666666666666, 4.4303797468354436, 4.705882352941177,\n",
       "       4.994594594594595, 1.2413793103448276, 1.5895196506550218,\n",
       "       6.795505617977528, 2.155893536121673, 0.9200710479573713,\n",
       "       2.4088235294117646, 2.760330578512397, 1.5832460732984295,\n",
       "       1.9113924050632913, 1.940809968847352, 1.113978494623656,\n",
       "       3.2039800995024876, 2.1985088536812674, 1.1661683041435285,\n",
       "       3.24384640630128, 0.9187365838699786, 1.1794439764111204,\n",
       "       0.262331220721962, 0.44088604216706695, 0.5733299206552342,\n",
       "       0.6492555528435441, 0.6795169530887135, 0.48340807174887895,\n",
       "       0.5807006232538148, 0.49346879535558785, 0.43319268635724334,\n",
       "       0.4518763367684231, 0.1826904624832086, 0.3125703564727955,\n",
       "       0.38817949653411166, 0.36318407960199006, 0.24681445278408098,\n",
       "       0.2354556375493393, 0.3718676912796525, 0.39766271709138123,\n",
       "       0.42951541850220265, 0.4167302701877576, 0.3276684555754323,\n",
       "       0.2661596958174905, 0.25922204679201954, 0.3162177328843996,\n",
       "       0.22418553285477635, 0.25240612715195876, 0.40005267316302345,\n",
       "       0.3749839805203127, 0.13328255902513328, 0.5102739726027397,\n",
       "       0.39923954372623577, 0.3329080153114488, 0.3112169672224112,\n",
       "       0.36044198895027624, 0.1165899627438089, 0.5014263074484944,\n",
       "       0.2470160871821484, 0.31808499847854754, 0.3272907379891035,\n",
       "       0.25595643294758336, 0.3231996959908797, 0.3171773444753946,\n",
       "       0.1935720172145408, 0.09422464756707595, 0.3549330733091038,\n",
       "       0.31658291457286436, 0.2711979609175871, 0.2786243650595387,\n",
       "       0.24173486088379706, 0.06386445096122516, 0.42893240682248895,\n",
       "       0.3901128425577646, 0.25429605064817606, 0.34477688745129753,\n",
       "       0.33845050215208033, 0.46883450045066904, 0.15645139174550937,\n",
       "       0.3115699155382759, 0.29400183751148445, 0.28266460905349794,\n",
       "       0.2753403933434191, 0.28020756115641215, 0.3211009174311927,\n",
       "       0.17522946715937537, 0.4082860780002315, 0.33602530072852543,\n",
       "       0.34697361898992124, 0.29808106942647694, 0.84188662039617,\n",
       "       0.761234071093226, 0.11903291692395385, 1.21126393890745,\n",
       "       0.7876827320748536, 0.7410998216086249, 0.6378946589184588,\n",
       "       0.6134135551229871, 0.4358947982032027, 0.054037436808307145,\n",
       "       0.6619805395554688, 0.30876455986251666, 0.6122523509540765,\n",
       "       0.5126656502873227, 0.4788764299467664, 0.23272909531367472,\n",
       "       0.2616607918681859, 0.4369440914866582, 0.546666327491033,\n",
       "       0.24527641707487755, 0.31032038906131626, 0.36033333333333334,\n",
       "       0.6178110562370559, 0.4409716099453359, 0.5913994384513078,\n",
       "       0.4734534032267934, 0.3732777446892992, 0.4307567973214801,\n",
       "       0.41460181122210815, 0.31956355143597415, 0.241747207229823,\n",
       "       0.325142306681846, 0.3315663474692202, 0.3373606568319872,\n",
       "       0.3401068125569884, 0.2689599003497341, 0.3262364886996397,\n",
       "       0.26479364642152137, 0.1789259007477906], dtype=object)"
      ]
     },
     "execution_count": 33,
     "metadata": {},
     "output_type": "execute_result"
    }
   ],
   "source": [
    "get_cnty_rt(48201)"
   ]
  },
  {
   "cell_type": "code",
   "execution_count": 42,
   "metadata": {},
   "outputs": [
    {
     "name": "stderr",
     "output_type": "stream",
     "text": [
      "/Users/m210842/anaconda3/lib/python3.7/site-packages/ipykernel_launcher.py:8: RuntimeWarning: invalid value encountered in long_scalars\n",
      "  \n"
     ]
    },
    {
     "data": {
      "image/png": "[encoded data removed]",
      "text/plain": [
       "<Figure size 432x288 with 1 Axes>"
      ]
     },
     "metadata": {
      "needs_background": "light"
     },
     "output_type": "display_data"
    }
   ],
   "source": [
    "plot_rt(get_cnty_rt(48201, 14))"
   ]
  },
  {
   "cell_type": "code",
   "execution_count": 45,
   "metadata": {},
   "outputs": [
    {
     "name": "stderr",
     "output_type": "stream",
     "text": [
      "/Users/m210842/anaconda3/lib/python3.7/site-packages/ipykernel_launcher.py:8: RuntimeWarning: invalid value encountered in long_scalars\n",
      "  \n"
     ]
    },
    {
     "data": {
      "text/plain": [
       "(0, 2)"
      ]
     },
     "execution_count": 45,
     "metadata": {},
     "output_type": "execute_result"
    },
    {
     "data": {
      "image/png": "[encoded data removed]",
      "text/plain": [
       "<Figure size 432x288 with 1 Axes>"
      ]
     },
     "metadata": {
      "needs_background": "light"
     },
     "output_type": "display_data"
    }
   ],
   "source": [
    "ax = pd.Series(get_cnty_rt(6037, 12)).rolling(\n",
    "    7, win_type='gaussian', min_periods=1, center=True\n",
    ").mean(std=2).plot()\n",
    "\n",
    "ax.set_ylim([0, 2])"
   ]
  },
  {
   "cell_type": "code",
   "execution_count": null,
   "metadata": {},
   "outputs": [],
   "source": []
  }
 ],
 "metadata": {
  "kernelspec": {
   "display_name": "Python 3",
   "language": "python",
   "name": "python3"
  },
  "language_info": {
   "codemirror_mode": {
    "name": "ipython",
    "version": 3
   },
   "file_extension": ".py",
   "mimetype": "text/x-python",
   "name": "python",
   "nbconvert_exporter": "python",
   "pygments_lexer": "ipython3",
   "version": "3.7.3"
  }
 },
 "nbformat": 4,
 "nbformat_minor": 4
}
